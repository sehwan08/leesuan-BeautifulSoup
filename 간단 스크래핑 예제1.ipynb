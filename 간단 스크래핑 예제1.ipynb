{
 "cells": [
  {
   "cell_type": "code",
   "execution_count": null,
   "id": "8d23a809",
   "metadata": {},
   "outputs": [],
   "source": [
    "from bs4 import BeautifulSoup as bs\n",
    "import requests\n",
    "from urllib.parse import quote\n",
    "import pandas as pd\n",
    "import re\n",
    "import datetime\n",
    "\n",
    "headers = {'User-Agent':'Mozilla/5.0 (Windows NT 10.0; Win64; x64) AppleWebKit/537.36 (KHTML, like Gecko) Chrome/96.0.4664.93 Safari/537.36'}\n",
    "\n"
   ]
  },
  {
   "cell_type": "code",
   "execution_count": null,
   "id": "8f7ee3d6",
   "metadata": {},
   "outputs": [],
   "source": [
    "def newssearch(key):\n",
    "    url = \"https://search.naver.com/search.naver?where=news&sm=tab_jum&query=\" + key\n",
    "    html = requests.get(url).text\n",
    "    soup = bs(html, 'html.parser')\n",
    "    bx = soup.findAll(\"div\", class_=\"news_area\")\n",
    "    return bx"
   ]
  },
  {
   "cell_type": "code",
   "execution_count": null,
   "id": "90561ec6",
   "metadata": {
    "scrolled": true
   },
   "outputs": [],
   "source": [
    "key = input(\"검색 키워드: \")\n",
    "newslist = newssearch(key)"
   ]
  },
  {
   "cell_type": "code",
   "execution_count": null,
   "id": "ccb89c5e",
   "metadata": {},
   "outputs": [],
   "source": [
    "for i in newslist:\n",
    "    each_news = i.find(\"div\", class_=\"info_group\")\n",
    "    naver = each_news.text\n",
    "    first_step = each_news.find_all(\"a\")\n",
    "    press = first_step[0].text\n",
    "    if \"언론사 선정\" in press:\n",
    "        press = press.replace(\"언론사 선정\", \"\")\n",
    "    if \"네이버뉴스\" in naver:\n",
    "        href = first_step[1]['href']\n",
    "        title = i.find(\"a\", class_=\"news_tit\").text\n",
    "        print(f\"{title} : {press} : {href}\")\n",
    "\n",
    "    "
   ]
  },
  {
   "cell_type": "code",
   "execution_count": null,
   "id": "899103ed",
   "metadata": {},
   "outputs": [],
   "source": []
  },
  {
   "cell_type": "code",
   "execution_count": null,
   "id": "c917c1af",
   "metadata": {},
   "outputs": [],
   "source": []
  },
  {
   "cell_type": "code",
   "execution_count": null,
   "id": "767d8488",
   "metadata": {},
   "outputs": [],
   "source": []
  },
  {
   "cell_type": "code",
   "execution_count": null,
   "id": "679ed4dd",
   "metadata": {},
   "outputs": [],
   "source": []
  },
  {
   "cell_type": "code",
   "execution_count": null,
   "id": "c185b6d5",
   "metadata": {},
   "outputs": [],
   "source": []
  }
 ],
 "metadata": {
  "kernelspec": {
   "display_name": "Python 3 (ipykernel)",
   "language": "python",
   "name": "python3"
  },
  "language_info": {
   "codemirror_mode": {
    "name": "ipython",
    "version": 3
   },
   "file_extension": ".py",
   "mimetype": "text/x-python",
   "name": "python",
   "nbconvert_exporter": "python",
   "pygments_lexer": "ipython3",
   "version": "3.10.0"
  }
 },
 "nbformat": 4,
 "nbformat_minor": 5
}
