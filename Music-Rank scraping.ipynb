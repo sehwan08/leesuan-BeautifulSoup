{
 "cells": [
  {
   "cell_type": "code",
   "execution_count": 15,
   "id": "0a661936",
   "metadata": {},
   "outputs": [],
   "source": [
    "from bs4 import BeautifulSoup as bs\n",
    "import requests\n",
    "import pandas as pd"
   ]
  },
  {
   "cell_type": "code",
   "execution_count": 49,
   "id": "1cd939c6",
   "metadata": {},
   "outputs": [
    {
     "data": {
      "text/plain": [
       "200"
      ]
     },
     "execution_count": 49,
     "metadata": {},
     "output_type": "execute_result"
    }
   ],
   "source": [
    "headers = {'User-Agent':'Mozilla/5.0 (Windows NT 10.0; Win64; x64) AppleWebKit/537.36 (KHTML, like Gecko) Chrome/96.0.4664.93 Safari/537.36'}\n",
    "\n",
    "url = \"https://www.billboard.com/charts/hot-100/\"\n",
    "\n",
    "r = requests.get(url, headers=headers)\n",
    "r.status_code"
   ]
  },
  {
   "cell_type": "code",
   "execution_count": 158,
   "id": "301ef004",
   "metadata": {
    "scrolled": true
   },
   "outputs": [
    {
     "data": {
      "text/plain": [
       "'\\nAdele\\n'"
      ]
     },
     "execution_count": 158,
     "metadata": {},
     "output_type": "execute_result"
    }
   ],
   "source": [
    "soup = bs(r.content, 'lxml')\n",
    "\n",
    "titles = soup.select('div:nth-child(2) > ul > li.lrv-u-width-100p > ul > li.o-chart-results-list__item.\\/\\/.lrv-u-flex-grow-1.lrv-u-flex.lrv-u-flex-direction-column.lrv-u-justify-content-center.lrv-u-border-b-1.u-border-b-0\\@mobile-max.lrv-u-border-color-grey-light.lrv-u-padding-l-1\\@mobile-max')\n",
    "artists = soup.select('div:nth-child(2) > ul > li.lrv-u-width-100p > ul > li.o-chart-results-list__item.\\/\\/.lrv-u-flex-grow-1.lrv-u-flex.lrv-u-flex-direction-column.lrv-u-justify-content-center.lrv-u-border-b-1.u-border-b-0\\@mobile-max.lrv-u-border-color-grey-light.lrv-u-padding-l-1\\@mobile-max > span')[0].get_text()\n",
    "\n",
    "artists\n",
    "\n",
    "\n",
    "# titles[0].h3.get_text().strip()"
   ]
  },
  {
   "cell_type": "code",
   "execution_count": 183,
   "id": "0d3b311e",
   "metadata": {
    "scrolled": true
   },
   "outputs": [
    {
     "name": "stdout",
     "output_type": "stream",
     "text": [
      "['Easy On Me', 'Stay', 'All I Want For Christmas Is You', \"Rockin' Around The Christmas Tree\", 'Jingle Bell Rock', 'Industry Baby', 'A Holly Jolly Christmas', 'Heat Waves', 'Shivers', 'Need To Know']\n"
     ]
    }
   ],
   "source": [
    "titles = []\n",
    "\n",
    "for i in range(2, 12):\n",
    "    j = 0\n",
    "    try:\n",
    "        data = soup.select(f'div:nth-child({i}) > ul > li.lrv-u-width-100p > ul > li.o-chart-results-list__item.\\/\\/.lrv-u-flex-grow-1.lrv-u-flex.lrv-u-flex-direction-column.lrv-u-justify-content-center.lrv-u-border-b-1.u-border-b-0\\@mobile-max.lrv-u-border-color-grey-light.lrv-u-padding-l-1\\@mobile-max')\n",
    "#         print(titles[j].h3.get_text().strip())\n",
    "        titles.append(data[j].h3.get_text().strip())\n",
    "        \n",
    "    except Exception as e:\n",
    "        print(e)\n",
    "\n",
    "print(titles)\n"
   ]
  },
  {
   "cell_type": "code",
   "execution_count": 1,
   "id": "7d8eecab",
   "metadata": {},
   "outputs": [
    {
     "name": "stdout",
     "output_type": "stream",
     "text": [
      "name 'soup' is not defined\n",
      "name 'soup' is not defined\n",
      "name 'soup' is not defined\n",
      "name 'soup' is not defined\n",
      "name 'soup' is not defined\n",
      "name 'soup' is not defined\n",
      "name 'soup' is not defined\n",
      "name 'soup' is not defined\n",
      "name 'soup' is not defined\n",
      "name 'soup' is not defined\n",
      "[]\n"
     ]
    }
   ],
   "source": [
    "artists = []\n",
    "\n",
    "for i in range(2, 12):\n",
    "    j = 0\n",
    "    try: \n",
    "        data = soup.select(f'div:nth-child({i}) > ul > li.lrv-u-width-100p > ul > li.o-chart-results-list__item.\\/\\/.lrv-u-flex-grow-1.lrv-u-flex.lrv-u-flex-direction-column.lrv-u-justify-content-center.lrv-u-border-b-1.u-border-b-0\\@mobile-max.lrv-u-border-color-grey-light.lrv-u-padding-l-1\\@mobile-max > span')\n",
    "#         print(artists)\n",
    "        artists.append(data[j].get_text().strip())\n",
    "    except Exception as e:\n",
    "        print(e)\n",
    "        \n",
    "print(artists)\n",
    "    \n",
    " "
   ]
  },
  {
   "cell_type": "code",
   "execution_count": 185,
   "id": "f6648015",
   "metadata": {},
   "outputs": [],
   "source": [
    "ranks = [rank for rank in range(1,11)]"
   ]
  },
  {
   "cell_type": "code",
   "execution_count": 187,
   "id": "0e1f4464",
   "metadata": {
    "scrolled": true
   },
   "outputs": [
    {
     "data": {
      "text/html": [
       "<div>\n",
       "<style scoped>\n",
       "    .dataframe tbody tr th:only-of-type {\n",
       "        vertical-align: middle;\n",
       "    }\n",
       "\n",
       "    .dataframe tbody tr th {\n",
       "        vertical-align: top;\n",
       "    }\n",
       "\n",
       "    .dataframe thead th {\n",
       "        text-align: right;\n",
       "    }\n",
       "</style>\n",
       "<table border=\"1\" class=\"dataframe\">\n",
       "  <thead>\n",
       "    <tr style=\"text-align: right;\">\n",
       "      <th></th>\n",
       "      <th>Rank</th>\n",
       "      <th>Title</th>\n",
       "      <th>Artist</th>\n",
       "    </tr>\n",
       "  </thead>\n",
       "  <tbody>\n",
       "    <tr>\n",
       "      <th>0</th>\n",
       "      <td>1</td>\n",
       "      <td>Easy On Me</td>\n",
       "      <td>Adele</td>\n",
       "    </tr>\n",
       "    <tr>\n",
       "      <th>1</th>\n",
       "      <td>2</td>\n",
       "      <td>Stay</td>\n",
       "      <td>The Kid LAROI &amp; Justin Bieber</td>\n",
       "    </tr>\n",
       "    <tr>\n",
       "      <th>2</th>\n",
       "      <td>3</td>\n",
       "      <td>All I Want For Christmas Is You</td>\n",
       "      <td>Mariah Carey</td>\n",
       "    </tr>\n",
       "    <tr>\n",
       "      <th>3</th>\n",
       "      <td>4</td>\n",
       "      <td>Rockin' Around The Christmas Tree</td>\n",
       "      <td>Brenda Lee</td>\n",
       "    </tr>\n",
       "    <tr>\n",
       "      <th>4</th>\n",
       "      <td>5</td>\n",
       "      <td>Jingle Bell Rock</td>\n",
       "      <td>Bobby Helms</td>\n",
       "    </tr>\n",
       "    <tr>\n",
       "      <th>5</th>\n",
       "      <td>6</td>\n",
       "      <td>Industry Baby</td>\n",
       "      <td>Lil Nas X &amp; Jack Harlow</td>\n",
       "    </tr>\n",
       "    <tr>\n",
       "      <th>6</th>\n",
       "      <td>7</td>\n",
       "      <td>A Holly Jolly Christmas</td>\n",
       "      <td>Burl Ives</td>\n",
       "    </tr>\n",
       "    <tr>\n",
       "      <th>7</th>\n",
       "      <td>8</td>\n",
       "      <td>Heat Waves</td>\n",
       "      <td>Glass Animals</td>\n",
       "    </tr>\n",
       "    <tr>\n",
       "      <th>8</th>\n",
       "      <td>9</td>\n",
       "      <td>Shivers</td>\n",
       "      <td>Ed Sheeran</td>\n",
       "    </tr>\n",
       "    <tr>\n",
       "      <th>9</th>\n",
       "      <td>10</td>\n",
       "      <td>Need To Know</td>\n",
       "      <td>Doja Cat</td>\n",
       "    </tr>\n",
       "  </tbody>\n",
       "</table>\n",
       "</div>"
      ],
      "text/plain": [
       "   Rank                              Title                         Artist\n",
       "0     1                         Easy On Me                          Adele\n",
       "1     2                               Stay  The Kid LAROI & Justin Bieber\n",
       "2     3    All I Want For Christmas Is You                   Mariah Carey\n",
       "3     4  Rockin' Around The Christmas Tree                     Brenda Lee\n",
       "4     5                   Jingle Bell Rock                    Bobby Helms\n",
       "5     6                      Industry Baby        Lil Nas X & Jack Harlow\n",
       "6     7            A Holly Jolly Christmas                      Burl Ives\n",
       "7     8                         Heat Waves                  Glass Animals\n",
       "8     9                            Shivers                     Ed Sheeran\n",
       "9    10                       Need To Know                       Doja Cat"
      ]
     },
     "execution_count": 187,
     "metadata": {},
     "output_type": "execute_result"
    }
   ],
   "source": [
    "rank_df = pd.DataFrame({\"Rank\":ranks,\n",
    "                       \"Title\":titles,\n",
    "                       \"Artist\":artists})\n",
    "rank_df"
   ]
  },
  {
   "cell_type": "code",
   "execution_count": 190,
   "id": "e9f40fc6",
   "metadata": {},
   "outputs": [],
   "source": [
    "url = \"https://www.billboard.com/charts/hot-100/\"\n",
    "\n",
    "def get_music_rank(url):\n",
    "    headers = {'User-Agent':'Mozilla/5.0 (Windows NT 10.0; Win64; x64) AppleWebKit/537.36 (KHTML, like Gecko) Chrome/96.0.4664.93 Safari/537.36'}\n",
    "    r = requests.get(url, headers=headers)\n",
    "#     r.status_code\n",
    "    \n",
    "    soup = bs(r.content, 'lxml')\n",
    "    \n",
    "    titles = []\n",
    "    artists = []\n",
    "    \n",
    "    for i in range(2, 12):\n",
    "        j = 0\n",
    "        try:\n",
    "            data = soup.select(f'div:nth-child({i}) > ul > li.lrv-u-width-100p > ul > li.o-chart-results-list__item.\\/\\/.lrv-u-flex-grow-1.lrv-u-flex.lrv-u-flex-direction-column.lrv-u-justify-content-center.lrv-u-border-b-1.u-border-b-0\\@mobile-max.lrv-u-border-color-grey-light.lrv-u-padding-l-1\\@mobile-max')\n",
    "    #         print(titles[j].h3.get_text().strip())\n",
    "            titles.append(data[j].h3.get_text().strip())\n",
    "\n",
    "        except Exception as e:\n",
    "            print(e)\n",
    "        \n",
    "    for i in range(2, 12):\n",
    "        j = 0\n",
    "        try: \n",
    "            data = soup.select(f'div:nth-child({i}) > ul > li.lrv-u-width-100p > ul > li.o-chart-results-list__item.\\/\\/.lrv-u-flex-grow-1.lrv-u-flex.lrv-u-flex-direction-column.lrv-u-justify-content-center.lrv-u-border-b-1.u-border-b-0\\@mobile-max.lrv-u-border-color-grey-light.lrv-u-padding-l-1\\@mobile-max > span')\n",
    "    #         print(artists)\n",
    "            artists.append(data[j].get_text().strip())\n",
    "        except Exception as e:\n",
    "            print(e)\n",
    "\n",
    "        return titles, artists\n",
    "\n",
    "\n",
    "\n",
    "    \n",
    "    \n",
    "    \n",
    "    "
   ]
  },
  {
   "cell_type": "code",
   "execution_count": null,
   "id": "df241834",
   "metadata": {},
   "outputs": [],
   "source": []
  }
 ],
 "metadata": {
  "kernelspec": {
   "display_name": "Python 3 (ipykernel)",
   "language": "python",
   "name": "python3"
  },
  "language_info": {
   "codemirror_mode": {
    "name": "ipython",
    "version": 3
   },
   "file_extension": ".py",
   "mimetype": "text/x-python",
   "name": "python",
   "nbconvert_exporter": "python",
   "pygments_lexer": "ipython3",
   "version": "3.10.0"
  }
 },
 "nbformat": 4,
 "nbformat_minor": 5
}
