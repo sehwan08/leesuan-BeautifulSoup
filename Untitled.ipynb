{
 "cells": [
  {
   "cell_type": "code",
   "execution_count": 5,
   "id": "e7901bd0",
   "metadata": {},
   "outputs": [],
   "source": [
    "from bs4 import BeautifulSoup as bs\n",
    "import requests\n",
    "from urllib.parse import quote\n",
    "import pandas as pd\n",
    "import re\n",
    "\n",
    "headers = {'User-Agent':'Mozilla/5.0 (Windows NT 10.0; Win64; x64) AppleWebKit/537.36 (KHTML, like Gecko) Chrome/96.0.4664.93 Safari/537.36'}\n",
    "\n"
   ]
  },
  {
   "cell_type": "code",
   "execution_count": 24,
   "id": "f237b877",
   "metadata": {},
   "outputs": [],
   "source": [
    "def get_news(query):\n",
    "    \n",
    "    url_query = quote(query)\n",
    "    url = \"https://search.naver.com/search.naver?where=news&sm=tab_jum&query=\" + url_query\n",
    "    search_url = requests.get(url, headers=headers)\n",
    "    soup = bs(search_url.content, 'html.parser')\n",
    "    \n",
    "    links = soup.findAll('div', class_=\"info_group\")\n",
    "    for link in links:\n",
    "        # news_url = link.select_one('.info_group a[href]:last-child').attrs['href']\n",
    "\n",
    "        firststep = link.find_all(\"a\")\n",
    "#         print(firststep[0])\n",
    "        press = firststep[0].text #언론사\n",
    "        if \"언론사 선정\" in press:\n",
    "            press = press.replace(\"언론사 선정\", \"\")\n",
    "            \n",
    "        naver_news_only_arr_news_url = link.select_one('.info_group a.info:last-child')\n",
    "        if (naver_news_only_arr_news_url == None):\n",
    "            continue\n",
    "        else:\n",
    "    #             print(naver_news_only_arr_news_url.get('href')) # 네이버 뉴스 링크 \n",
    "            news_url = naver_news_only_arr_news_url.get('href')\n",
    "            print(news_url)\n",
    "            \n",
    "            \n",
    "\n",
    "            "
   ]
  },
  {
   "cell_type": "code",
   "execution_count": 25,
   "id": "69a6bc18",
   "metadata": {},
   "outputs": [
    {
     "name": "stdout",
     "output_type": "stream",
     "text": [
      "https://news.naver.com/main/read.naver?mode=LSD&mid=sec&sid1=100&oid=018&aid=0005115130\n",
      "https://news.naver.com/main/read.naver?mode=LSD&mid=sec&sid1=100&oid=057&aid=0001631256\n",
      "https://news.naver.com/main/read.naver?mode=LSD&mid=sec&sid1=106&oid=421&aid=0005808826\n",
      "https://news.naver.com/main/read.naver?mode=LSD&mid=sec&sid1=106&oid=076&aid=0003816420\n",
      "https://news.naver.com/main/read.naver?mode=LSD&mid=sec&sid1=102&oid=003&aid=0010911541\n",
      "https://news.naver.com/main/read.naver?mode=LSD&mid=sec&sid1=100&oid=029&aid=0002713035\n",
      "https://news.naver.com/main/read.naver?mode=LSD&mid=sec&sid1=103&oid=052&aid=0001682579\n",
      "https://news.naver.com/main/read.naver?mode=LSD&mid=sec&sid1=100&oid=023&aid=0003662577\n",
      "https://news.naver.com/main/read.naver?mode=LSD&mid=sec&sid1=102&oid=277&aid=0005022009\n",
      "https://news.naver.com/main/read.naver?mode=LSD&mid=sec&sid1=101&oid=008&aid=0004688468\n"
     ]
    }
   ],
   "source": [
    "get_news(\"소리\")"
   ]
  },
  {
   "cell_type": "code",
   "execution_count": 35,
   "id": "6a4b5a50",
   "metadata": {},
   "outputs": [
    {
     "data": {
      "text/html": [
       "<div>\n",
       "<style scoped>\n",
       "    .dataframe tbody tr th:only-of-type {\n",
       "        vertical-align: middle;\n",
       "    }\n",
       "\n",
       "    .dataframe tbody tr th {\n",
       "        vertical-align: top;\n",
       "    }\n",
       "\n",
       "    .dataframe thead th {\n",
       "        text-align: right;\n",
       "    }\n",
       "</style>\n",
       "<table border=\"1\" class=\"dataframe\">\n",
       "  <thead>\n",
       "    <tr style=\"text-align: right;\">\n",
       "      <th></th>\n",
       "      <th>Title</th>\n",
       "      <th>Link</th>\n",
       "      <th>Press</th>\n",
       "      <th>DataeTime</th>\n",
       "      <th>Article</th>\n",
       "    </tr>\n",
       "  </thead>\n",
       "  <tbody>\n",
       "    <tr>\n",
       "      <th>0</th>\n",
       "      <td>부산시, 지산학 협력 통한 인공지능 선도 도시 구현 모색</td>\n",
       "      <td>https://news.naver.com/main/read.naver?mode=LS...</td>\n",
       "      <td>프레시안</td>\n",
       "      <td>2021.12.27. 오전 10:03</td>\n",
       "      <td>박형준 시장 직접 동의대서 오픈캠퍼스 미팅 실시, 취임 후 7번째 개최지·산·학 협...</td>\n",
       "    </tr>\n",
       "    <tr>\n",
       "      <th>1</th>\n",
       "      <td>None</td>\n",
       "      <td>https://news.naver.com/main/read.naver?mode=LS...</td>\n",
       "      <td>매일경제</td>\n",
       "      <td>None</td>\n",
       "      <td>None</td>\n",
       "    </tr>\n",
       "    <tr>\n",
       "      <th>2</th>\n",
       "      <td>전남교육청, ‘인공지능 교실’ 구축 추진</td>\n",
       "      <td>https://news.naver.com/main/read.naver?mode=LS...</td>\n",
       "      <td>KBS</td>\n",
       "      <td>2021.12.27. 오전 10:00</td>\n",
       "      <td>[KBS 광주]전남 지역 일선 학교 57곳에서 인공지능 교실 구축 사업이 추진됩니다...</td>\n",
       "    </tr>\n",
       "    <tr>\n",
       "      <th>3</th>\n",
       "      <td>\"교통경찰 대신 인공지능으로 교통흐름 제어됩니다\" [Only one 1등 기업만 살...</td>\n",
       "      <td>https://news.naver.com/main/read.naver?mode=LS...</td>\n",
       "      <td>파이낸셜뉴스</td>\n",
       "      <td>2021.12.27. 오후 6:17</td>\n",
       "      <td>AI 영상 인식·예측시스템 만든 뉴로다임교통체증 개선·대기시간 단축 등사회적 낭비 ...</td>\n",
       "    </tr>\n",
       "    <tr>\n",
       "      <th>4</th>\n",
       "      <td>ESG 모범기업 담은 인공지능 ETF 출시</td>\n",
       "      <td>https://news.naver.com/main/read.naver?mode=LS...</td>\n",
       "      <td>매일경제</td>\n",
       "      <td>2021.12.27. 오후 5:54</td>\n",
       "      <td>새해초 상장'MK-아이셀렉트 AI ESG지수' 활용◆ 인공지능 ESG ETF ◆ 우...</td>\n",
       "    </tr>\n",
       "  </tbody>\n",
       "</table>\n",
       "</div>"
      ],
      "text/plain": [
       "                                               Title  \\\n",
       "0                    부산시, 지산학 협력 통한 인공지능 선도 도시 구현 모색   \n",
       "1                                               None   \n",
       "2                             전남교육청, ‘인공지능 교실’ 구축 추진   \n",
       "3  \"교통경찰 대신 인공지능으로 교통흐름 제어됩니다\" [Only one 1등 기업만 살...   \n",
       "4                            ESG 모범기업 담은 인공지능 ETF 출시   \n",
       "\n",
       "                                                Link   Press  \\\n",
       "0  https://news.naver.com/main/read.naver?mode=LS...    프레시안   \n",
       "1  https://news.naver.com/main/read.naver?mode=LS...    매일경제   \n",
       "2  https://news.naver.com/main/read.naver?mode=LS...     KBS   \n",
       "3  https://news.naver.com/main/read.naver?mode=LS...  파이낸셜뉴스   \n",
       "4  https://news.naver.com/main/read.naver?mode=LS...    매일경제   \n",
       "\n",
       "              DataeTime                                            Article  \n",
       "0  2021.12.27. 오전 10:03  박형준 시장 직접 동의대서 오픈캠퍼스 미팅 실시, 취임 후 7번째 개최지·산·학 협...  \n",
       "1                  None                                               None  \n",
       "2  2021.12.27. 오전 10:00  [KBS 광주]전남 지역 일선 학교 57곳에서 인공지능 교실 구축 사업이 추진됩니다...  \n",
       "3   2021.12.27. 오후 6:17  AI 영상 인식·예측시스템 만든 뉴로다임교통체증 개선·대기시간 단축 등사회적 낭비 ...  \n",
       "4   2021.12.27. 오후 5:54  새해초 상장'MK-아이셀렉트 AI ESG지수' 활용◆ 인공지능 ESG ETF ◆ 우...  "
      ]
     },
     "execution_count": 35,
     "metadata": {},
     "output_type": "execute_result"
    }
   ],
   "source": [
    "news_df"
   ]
  },
  {
   "cell_type": "code",
   "execution_count": null,
   "id": "d547b702",
   "metadata": {},
   "outputs": [],
   "source": [
    "#             naver_news_only_arr_news_url = link.select_one('.info_group a.info:last-child')\n",
    "#             if (naver_news_only_arr_news_url == None):\n",
    "#                 continue\n",
    "#             else:\n",
    "#     #             print(naver_news_only_arr_news_url.get('href')) # 네이버 뉴스 링크 \n",
    "#                 news_url = naver_news_only_arr_news_url.get('href')\n",
    "#     #             print(news_url)\n",
    "#                 news_link = requests.get(news_url, headers=headers)\n",
    "#                 news_html = bs(news_link.content, 'html.parser')\n",
    "\n",
    "            \n",
    "#                 title = news_html.find('h3', {'id':'articleTitle'})\n",
    "#                 if(title != None):\n",
    "#                     title = title.get_text()\n",
    "#                 #타이틀은 들고오나 none 타입 존재\n",
    "                \n",
    "#                 datetitme = news_html.find('span', {'class':'t11'})\n",
    "#                 if(datetitme != None):\n",
    "#                     datetitme = datetitme.get_text()\n",
    "# #                 #날짜를 들고오나 none 타입 존재\n",
    "\n",
    "\n",
    "#                 article = news_html.find('div', {'id':'articleBodyContents'})\n",
    "#                 if(article != None):\n",
    "#                     article = article.get_text()\n",
    "#                     article = article.replace(\"\\n\",\"\")\n",
    "# #                 #본문을 들고오나 none 타입 존재"
   ]
  },
  {
   "cell_type": "code",
   "execution_count": null,
   "id": "22cc595a",
   "metadata": {},
   "outputs": [],
   "source": []
  },
  {
   "cell_type": "code",
   "execution_count": null,
   "id": "9def7697",
   "metadata": {},
   "outputs": [],
   "source": []
  },
  {
   "cell_type": "code",
   "execution_count": null,
   "id": "ff6d8d05",
   "metadata": {},
   "outputs": [],
   "source": []
  },
  {
   "cell_type": "code",
   "execution_count": null,
   "id": "89b24a8b",
   "metadata": {},
   "outputs": [],
   "source": []
  },
  {
   "cell_type": "code",
   "execution_count": null,
   "id": "04693880",
   "metadata": {},
   "outputs": [],
   "source": []
  }
 ],
 "metadata": {
  "kernelspec": {
   "display_name": "Python 3 (ipykernel)",
   "language": "python",
   "name": "python3"
  },
  "language_info": {
   "codemirror_mode": {
    "name": "ipython",
    "version": 3
   },
   "file_extension": ".py",
   "mimetype": "text/x-python",
   "name": "python",
   "nbconvert_exporter": "python",
   "pygments_lexer": "ipython3",
   "version": "3.10.0"
  }
 },
 "nbformat": 4,
 "nbformat_minor": 5
}
