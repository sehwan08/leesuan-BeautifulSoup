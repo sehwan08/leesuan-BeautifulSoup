{
 "cells": [
  {
   "cell_type": "code",
   "execution_count": 3,
   "id": "45bfe707",
   "metadata": {},
   "outputs": [],
   "source": [
    "from bs4 import BeautifulSoup as bs\n",
    "import requests\n",
    "from urllib.parse import quote\n",
    "import pandas as pd\n",
    "import re\n",
    "\n",
    "headers = {'User-Agent':'Mozilla/5.0 (Windows NT 10.0; Win64; x64) AppleWebKit/537.36 (KHTML, like Gecko) Chrome/96.0.4664.93 Safari/537.36'}\n",
    "\n"
   ]
  },
  {
   "cell_type": "code",
   "execution_count": 27,
   "id": "e4a6633c",
   "metadata": {},
   "outputs": [],
   "source": [
    "def get_news(query):\n",
    "    \n",
    "    url_query = quote(query)\n",
    "    url = \"https://search.naver.com/search.naver?where=news&sm=tab_jum&query=\" + url_query\n",
    "    \n",
    "    search_url = requests.get(url, headers=headers)\n",
    "    soup = bs(search_url.content, 'html.parser')\n",
    "    \n",
    "#     links = soup.find_all('div', {'class':\"info_group\"})\n",
    "    \n",
    "    press_list = soup.select(\".info_group > a.info.press\")\n",
    "    for press in press_list:\n",
    "        name = press.text.replace(\"언론사 선정\", \"\") # 언론사 \n",
    "\n",
    "\n",
    "    links = soup.findAll('div', class_=\"info_group\")\n",
    "        \n",
    "    for link in links:\n",
    "        # news_url = link.select_one('.info_group a[href]:last-child').attrs['href']\n",
    "        \n",
    "        naver_news_only_arr_news_url = link.select('.info_group a.info:last-child')\n",
    "        if (naver_news_only_arr_news_url == None):\n",
    "            continue\n",
    "        else:\n",
    "            naver_news_only_arr_news_url  = naver_news_only_arr_news_url[0].get('href')\n",
    "            print(naver_news_only_arr_news_url)\n",
    "#             print(naver_news_only_arr_news_url.get('href')) # 네이버 뉴스 링크 \n",
    "#             news_url = naver_news_only_arr_news_url.get('href')\n",
    "#             news_link = requests.get(news_url, headers=headers)\n",
    "#             news_html = bs(news_link.content, 'html.parser')\n",
    "            \n",
    "#             title = news_html.find('h3', {'id':'articleTitle'}).get_text()\n",
    "#             print(title)\n",
    "\n",
    "        \n",
    "        \n",
    "        \n",
    "        \n",
    "        \n",
    "        \n",
    "        \n",
    "        \n",
    "#         if len(naver_news_only_arr_news_url) == 0: continue\n",
    "            \n",
    "#         naver_news_only_arr_news_url  = naver_news_only_arr_news_url[0].get('href')\n",
    "#         print(f'naver_news : {naver_news_only_arr_news_url}')\n",
    "#         continue\n",
    "        \n",
    "        \n",
    "#         arr_news_url = link.select('.info_group a')       \n",
    "        \n",
    "#         arr_news_url_size = len(arr_news_url)\n",
    "        \n",
    "#         last_one = arr_news_url[-1]\n",
    "#         text = last_one.get_text()\n",
    "#         news_url = last_one.get('href') # last__one\n",
    "        \n",
    "#         if (arr_news_url_size <= 1):\n",
    "#             print(f'not naver : {text} / size : {arr_news_url_size} / url : {news_url}')\n",
    "#             continue\n",
    "        \n",
    "        \n",
    "#         print(f'{text} / size : {arr_news_url_size} / url : {news_url}')"
   ]
  },
  {
   "cell_type": "code",
   "execution_count": 28,
   "id": "c95713ed",
   "metadata": {
    "scrolled": false
   },
   "outputs": [
    {
     "name": "stdout",
     "output_type": "stream",
     "text": [
      "https://news.naver.com/main/read.naver?mode=LSD&mid=sec&sid1=102&oid=002&aid=0002224858\n"
     ]
    },
    {
     "ename": "IndexError",
     "evalue": "list index out of range",
     "output_type": "error",
     "traceback": [
      "\u001b[1;31m---------------------------------------------------------------------------\u001b[0m",
      "\u001b[1;31mIndexError\u001b[0m                                Traceback (most recent call last)",
      "\u001b[1;32m~\\AppData\\Local\\Temp/ipykernel_8756/1189096824.py\u001b[0m in \u001b[0;36m<module>\u001b[1;34m\u001b[0m\n\u001b[1;32m----> 1\u001b[1;33m \u001b[0mget_news\u001b[0m\u001b[1;33m(\u001b[0m\u001b[1;34m\"인공지능\"\u001b[0m\u001b[1;33m)\u001b[0m\u001b[1;33m\u001b[0m\u001b[1;33m\u001b[0m\u001b[0m\n\u001b[0m",
      "\u001b[1;32m~\\AppData\\Local\\Temp/ipykernel_8756/2562810968.py\u001b[0m in \u001b[0;36mget_news\u001b[1;34m(query)\u001b[0m\n\u001b[0;32m     23\u001b[0m             \u001b[1;32mcontinue\u001b[0m\u001b[1;33m\u001b[0m\u001b[1;33m\u001b[0m\u001b[0m\n\u001b[0;32m     24\u001b[0m         \u001b[1;32melse\u001b[0m\u001b[1;33m:\u001b[0m\u001b[1;33m\u001b[0m\u001b[1;33m\u001b[0m\u001b[0m\n\u001b[1;32m---> 25\u001b[1;33m             \u001b[0mnaver_news_only_arr_news_url\u001b[0m  \u001b[1;33m=\u001b[0m \u001b[0mnaver_news_only_arr_news_url\u001b[0m\u001b[1;33m[\u001b[0m\u001b[1;36m0\u001b[0m\u001b[1;33m]\u001b[0m\u001b[1;33m.\u001b[0m\u001b[0mget\u001b[0m\u001b[1;33m(\u001b[0m\u001b[1;34m'href'\u001b[0m\u001b[1;33m)\u001b[0m\u001b[1;33m\u001b[0m\u001b[1;33m\u001b[0m\u001b[0m\n\u001b[0m\u001b[0;32m     26\u001b[0m             \u001b[0mprint\u001b[0m\u001b[1;33m(\u001b[0m\u001b[0mnaver_news_only_arr_news_url\u001b[0m\u001b[1;33m)\u001b[0m\u001b[1;33m\u001b[0m\u001b[1;33m\u001b[0m\u001b[0m\n\u001b[0;32m     27\u001b[0m \u001b[1;31m#             print(naver_news_only_arr_news_url.get('href')) # 네이버 뉴스 링크\u001b[0m\u001b[1;33m\u001b[0m\u001b[1;33m\u001b[0m\u001b[0m\n",
      "\u001b[1;31mIndexError\u001b[0m: list index out of range"
     ]
    }
   ],
   "source": [
    "get_news(\"인공지능\")"
   ]
  },
  {
   "cell_type": "code",
   "execution_count": 62,
   "id": "799d68c6",
   "metadata": {},
   "outputs": [],
   "source": [
    "\n",
    "#         if(news_url == None):\n",
    "#             continue\n",
    "#         else:\n",
    "#             news_link = requests.get(news_url, headers=headers)\n",
    "#             news_html = bs(news_link.content, 'html.parser')\n",
    "            \n",
    "#             title = news_html.find('h3', {'id':'articleTitle'}).get_text()\n",
    "#             print(title)\n",
    "\n",
    "        \n",
    "    \n",
    "\n",
    "\n",
    "#     for link in links:\n",
    "#         press = link.find_all('a', {'class':'info press'})\n",
    "#         press = re.findall('</span>(.+?)<', str(links))[0::2] #신문사\n",
    "        \n",
    "        \n",
    "        \n",
    "        \n",
    "        \n",
    "        \n",
    "        \n",
    "#         news_url = link.select('div.news_info > div.info_group > a:nth-child(3)')[0].get('href')\n",
    "#         news_url_link = str(news_url)\n",
    "#         if(news_url_link == '' or len(news_url_link) <= 0):\n",
    "#             continue\n",
    "#         else:\n",
    "#             print(news_url)\n",
    "        \n",
    "\n",
    "        \n",
    "    "
   ]
  },
  {
   "cell_type": "code",
   "execution_count": null,
   "id": "a58c1f0d",
   "metadata": {},
   "outputs": [],
   "source": []
  },
  {
   "cell_type": "code",
   "execution_count": null,
   "id": "97520e83",
   "metadata": {},
   "outputs": [],
   "source": []
  },
  {
   "cell_type": "code",
   "execution_count": null,
   "id": "d928cd63",
   "metadata": {},
   "outputs": [],
   "source": []
  },
  {
   "cell_type": "code",
   "execution_count": null,
   "id": "5d140a2a",
   "metadata": {},
   "outputs": [],
   "source": []
  }
 ],
 "metadata": {
  "kernelspec": {
   "display_name": "Python 3 (ipykernel)",
   "language": "python",
   "name": "python3"
  },
  "language_info": {
   "codemirror_mode": {
    "name": "ipython",
    "version": 3
   },
   "file_extension": ".py",
   "mimetype": "text/x-python",
   "name": "python",
   "nbconvert_exporter": "python",
   "pygments_lexer": "ipython3",
   "version": "3.10.0"
  }
 },
 "nbformat": 4,
 "nbformat_minor": 5
}
