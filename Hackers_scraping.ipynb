{
 "cells": [
  {
   "cell_type": "code",
   "execution_count": 9,
   "id": "c1e53679",
   "metadata": {},
   "outputs": [],
   "source": [
    "import requests\n",
    "from bs4 import BeautifulSoup\n",
    "import re"
   ]
  },
  {
   "cell_type": "code",
   "execution_count": 28,
   "id": "20b6aa91",
   "metadata": {},
   "outputs": [],
   "source": [
    "def create_soup(url):\n",
    "    headers = {'User-Agent':'Mozilla/5.0 (Windows NT 10.0; Win64; x64) AppleWebKit/537.36 (KHTML, like Gecko) Chrome/97.0.4692.71 Safari/537.36'}\n",
    "    res = requests.get(url, headers=headers)\n",
    "    res.raise_for_status()\n",
    "    soup = BeautifulSoup(res.text, 'lxml')\n",
    "    return soup\n",
    "\n",
    "    \n",
    "def scrape_english():\n",
    "    print(\"[오늘의 영어 회화]\")\n",
    "    print()\n",
    "    url = \"https://www.hackers.co.kr/?c=s_eng/eng_contents/I_others_english\"\n",
    "    soup = create_soup(url)\n",
    "    \n",
    "    sentences = soup.find_all('div', attrs={'id':re.compile('^conv_kor_t')})\n",
    "    \n",
    "    print(len(sentences)//2)\n",
    "    \n",
    "    print('- 영어 지문 -')\n",
    "    for sentence in sentences[len(sentences)//2:]: # 8문장이라고 가정, 4~7이 영어, 0~3이 한글\n",
    "        print(sentence.get_text().strip())\n",
    "        \n",
    "    print()\n",
    "    print('- 한글 지문 -')\n",
    "    for sentence in sentences[:len(sentences)//2]:\n",
    "        print(sentence.get_text().strip())\n",
    "    print()\n",
    "\n",
    "    \n",
    "\n",
    "        \n",
    "    \n",
    "    \n",
    "        \n",
    "    "
   ]
  },
  {
   "cell_type": "code",
   "execution_count": 29,
   "id": "8733355c",
   "metadata": {},
   "outputs": [
    {
     "name": "stdout",
     "output_type": "stream",
     "text": [
      "[오늘의 영어 회화]\n",
      "\n",
      "4\n",
      "- 영어 지문 -\n",
      "Mr. Kim: We need to know how long it will take you to deliver the products.\n",
      "Sarah: I cannot give you an exact answer at this time, but it will probably not take more than two months.\n",
      "Mr. Kim: All right, that will be acceptable.\n",
      "Sarah: I will send you a fax with an exact time frame.\n",
      "\n",
      "- 한글 지문 -\n",
      "Mr. Kim: 제품이 배달되는데 얼마나 걸릴지를 알아야 합니다.\n",
      "Sarah: 지금은 분명한 대답을 줄 수 없어요. 하지만 아마도 두 달 이상 걸리지는 않을 거에요.\n",
      "Mr. Kim: 좋아요, 그 정도면 괜찮습니다.\n",
      "Sarah: 정확한 시간 계획에 대해서는 팩스로 보내드릴게요.\n",
      "\n"
     ]
    }
   ],
   "source": [
    "scrape_english()"
   ]
  },
  {
   "cell_type": "code",
   "execution_count": 26,
   "id": "8b768fad",
   "metadata": {},
   "outputs": [
    {
     "name": "stdout",
     "output_type": "stream",
     "text": [
      "3\n"
     ]
    }
   ],
   "source": [
    "print(7//2)"
   ]
  },
  {
   "cell_type": "code",
   "execution_count": null,
   "id": "75d84f02",
   "metadata": {},
   "outputs": [],
   "source": []
  },
  {
   "cell_type": "code",
   "execution_count": null,
   "id": "557d5680",
   "metadata": {},
   "outputs": [],
   "source": []
  }
 ],
 "metadata": {
  "kernelspec": {
   "display_name": "Python 3 (ipykernel)",
   "language": "python",
   "name": "python3"
  },
  "language_info": {
   "codemirror_mode": {
    "name": "ipython",
    "version": 3
   },
   "file_extension": ".py",
   "mimetype": "text/x-python",
   "name": "python",
   "nbconvert_exporter": "python",
   "pygments_lexer": "ipython3",
   "version": "3.10.0"
  }
 },
 "nbformat": 4,
 "nbformat_minor": 5
}
