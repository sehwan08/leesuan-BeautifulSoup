{
 "cells": [
  {
   "cell_type": "code",
   "execution_count": 4,
   "id": "5e4d0d44",
   "metadata": {},
   "outputs": [],
   "source": [
    "import requests\n",
    "from bs4 import BeautifulSoup"
   ]
  },
  {
   "cell_type": "code",
   "execution_count": 26,
   "id": "59d0015b",
   "metadata": {},
   "outputs": [],
   "source": [
    "def create_soup(url):\n",
    "    headers = {'User-Agent':'Mozilla/5.0 (Windows NT 10.0; Win64; x64) AppleWebKit/537.36 (KHTML, like Gecko) Chrome/97.0.4692.71 Safari/537.36'}\n",
    "    res = requests.get(url, headers=headers)\n",
    "    res.raise_for_status()\n",
    "    soup = BeautifulSoup(res.text, 'lxml')\n",
    "    return soup\n",
    "\n",
    "def print_news(index, title, link):\n",
    "    print(\"{}. {}\".format(index+1, title))\n",
    "    print(\"링크 : {}\".format(link))\n",
    "    \n",
    "def scrape_it_news():\n",
    "    print(\"[IT 뉴스]\")\n",
    "    url = \"https://news.naver.com/main/list.naver?mode=LS2D&mid=shm&sid1=105&sid2=230\"\n",
    "    soup = create_soup(url)\n",
    "    \n",
    "    news_list = soup.find('ul', class_='type06_headline').find_all('li', limit=3)\n",
    "    for index, news in enumerate(news_list):\n",
    "        a = news.select('ul.type06_headline > li > dl > dt.photo > a > img')\n",
    "        title = a[0].attrs['alt']\n",
    "        link = news.find('a').get('href')\n",
    "        print_news(index, title, link)\n",
    "    \n",
    "    print()\n",
    "    \n",
    "    \n",
    "        \n",
    "    "
   ]
  },
  {
   "cell_type": "code",
   "execution_count": 28,
   "id": "df2d1089",
   "metadata": {},
   "outputs": [
    {
     "name": "stdout",
     "output_type": "stream",
     "text": [
      "[IT 뉴스]\n",
      "1. 카카오 차기대표 ‘먹튀 논란’에 직원 1800여명 “류영준 반대”\n",
      "링크 : https://news.naver.com/main/read.naver?mode=LS2D&mid=shm&sid1=105&sid2=230&oid=293&aid=0000037580\n",
      "2. 국내 규제 막혀 해외로…'뉴코애드윈드', DH 손잡고 한국 뜬다\n",
      "링크 : https://news.naver.com/main/read.naver?mode=LS2D&mid=shm&sid1=105&sid2=230&oid=293&aid=0000037579\n",
      "3. 한수원, 농어촌공사와 친환경에너지 공동 개발\n",
      "링크 : https://news.naver.com/main/read.naver?mode=LS2D&mid=shm&sid1=105&sid2=230&oid=092&aid=0002244426\n",
      "\n"
     ]
    }
   ],
   "source": [
    "scrape_it_news()"
   ]
  },
  {
   "cell_type": "code",
   "execution_count": null,
   "id": "cd6c4969",
   "metadata": {},
   "outputs": [],
   "source": []
  },
  {
   "cell_type": "code",
   "execution_count": null,
   "id": "0ca96a09",
   "metadata": {},
   "outputs": [],
   "source": []
  },
  {
   "cell_type": "code",
   "execution_count": null,
   "id": "9e4221b6",
   "metadata": {},
   "outputs": [],
   "source": []
  }
 ],
 "metadata": {
  "kernelspec": {
   "display_name": "Python 3 (ipykernel)",
   "language": "python",
   "name": "python3"
  },
  "language_info": {
   "codemirror_mode": {
    "name": "ipython",
    "version": 3
   },
   "file_extension": ".py",
   "mimetype": "text/x-python",
   "name": "python",
   "nbconvert_exporter": "python",
   "pygments_lexer": "ipython3",
   "version": "3.10.0"
  }
 },
 "nbformat": 4,
 "nbformat_minor": 5
}
