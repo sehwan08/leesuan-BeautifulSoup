{
 "cells": [
  {
   "cell_type": "code",
   "execution_count": 3,
   "id": "9f3e284b",
   "metadata": {},
   "outputs": [
    {
     "data": {
      "text/plain": [
       "200"
      ]
     },
     "execution_count": 3,
     "metadata": {},
     "output_type": "execute_result"
    }
   ],
   "source": [
    "import requests\n",
    "from bs4 import BeautifulSoup as bs\n",
    "import pandas as pd\n",
    "import time\n",
    "\n",
    "headers = {'User-Agent':'Mozilla/5.0 (Windows NT 10.0; Win64; x64) AppleWebKit/537.36 (KHTML, like Gecko) Chrome/96.0.4664.93 Safari/537.36'}\n",
    "\n",
    "url = \"https://www.transfermarkt.com/spieler-statistik/wertvollstespieler/marktwertetop\"\n",
    "\n",
    "r = requests.get(url, headers=headers)\n",
    "r.status_code"
   ]
  },
  {
   "cell_type": "code",
   "execution_count": 11,
   "id": "f47816cd",
   "metadata": {},
   "outputs": [
    {
     "name": "stdout",
     "output_type": "stream",
     "text": [
      "<tr class=\"odd\">\n",
      " <td class=\"zentriert\">\n",
      "  1\n",
      " </td>\n",
      " <td class=\"\">\n",
      "  <table class=\"inline-table\">\n",
      "   <tr>\n",
      "    <td rowspan=\"2\">\n",
      "     <a href=\"#\">\n",
      "      <img alt=\"Kylian Mbappé\" class=\"bilderrahmen-fixed\" src=\"https://img.a.transfermarkt.technology/portrait/small/342229-1632686046.jpg?lm=1\" title=\"Kylian Mbappé\"/>\n",
      "     </a>\n",
      "    </td>\n",
      "    <td class=\"hauptlink\">\n",
      "     <a href=\"/kylian-mbappe/profil/spieler/342229\" title=\"Kylian Mbappé\">\n",
      "      Kylian Mbappé\n",
      "     </a>\n",
      "    </td>\n",
      "   </tr>\n",
      "   <tr>\n",
      "    <td>\n",
      "     Centre-Forward\n",
      "    </td>\n",
      "   </tr>\n",
      "  </table>\n",
      " </td>\n",
      " <td class=\"zentriert\">\n",
      "  22\n",
      " </td>\n",
      " <td class=\"zentriert\">\n",
      "  <img alt=\"France\" class=\"flaggenrahmen\" src=\"https://tmssl.akamaized.net/images/flagge/verysmall/50.png?lm=1520611569\" title=\"France\"/>\n",
      " </td>\n",
      " <td class=\"zentriert\">\n",
      "  <a href=\"/fc-paris-saint-germain/startseite/verein/583\" title=\"Paris Saint-Germain\">\n",
      "   <img alt=\"Paris Saint-Germain\" class=\"\" src=\"https://tmssl.akamaized.net/images/wappen/verysmall/583.png?lm=1522312728\" title=\" \"/>\n",
      "  </a>\n",
      " </td>\n",
      " <td class=\"rechts hauptlink\">\n",
      "  <b>\n",
      "   €160.00m\n",
      "  </b>\n",
      "  <span class=\"icons_sprite grey-block-ten\" title=\"€160.00m\">\n",
      "  </span>\n",
      " </td>\n",
      "</tr>\n",
      "\n",
      "------------------------\n",
      "25\n"
     ]
    }
   ],
   "source": [
    "soup = bs(r.content, 'html.parser')\n",
    "\n",
    "player_info = soup.find_all('tr', class_=['odd', 'even'])\n",
    "print(player_info[0].prettify())\n",
    "print(\"------------------------\")\n",
    "print(len(player_info))"
   ]
  },
  {
   "cell_type": "code",
   "execution_count": 70,
   "id": "6a081329",
   "metadata": {},
   "outputs": [],
   "source": [
    "number = []\n",
    "name = []\n",
    "position = []\n",
    "age = []\n",
    "nation = []\n",
    "team = []\n",
    "value = []"
   ]
  },
  {
   "cell_type": "code",
   "execution_count": 71,
   "id": "69be5ccd",
   "metadata": {},
   "outputs": [
    {
     "name": "stdout",
     "output_type": "stream",
     "text": [
      "['€160.00m', '€150.00m', '€120.00m', '€100.00m', '€100.00m', '€100.00m', '€100.00m', '€100.00m', '€90.00m', '€90.00m', '€90.00m', '€90.00m', '€90.00m', '€85.00m', '€85.00m', '€85.00m', '€80.00m', '€80.00m', '€80.00m', '€80.00m', '€80.00m', '€75.00m', '€75.00m', '€75.00m', '€75.00m']\n"
     ]
    }
   ],
   "source": [
    "for info in player_info:\n",
    "    player = info.find_all(\"td\")\n",
    "#     print(player[0])\n",
    "#     print(player[3].get_text())\n",
    "#     print(player[7])\n",
    "#     print(player[8])\n",
    "    number.append(player[0].get_text())\n",
    "    name.append(player[3].get_text())\n",
    "    position.append(player[4].get_text())\n",
    "    age.append(player[5].get_text())\n",
    "    nation.append(player[6].img['alt'])\n",
    "    team.append(player[7].a['title'])\n",
    "#     value.append(player[8].b.get_text())\n",
    "    value.append(player[8].text.strip())\n",
    "\n",
    "print(value)\n",
    "  "
   ]
  },
  {
   "cell_type": "code",
   "execution_count": 72,
   "id": "c6dd5a10",
   "metadata": {},
   "outputs": [
    {
     "data": {
      "text/html": [
       "<div>\n",
       "<style scoped>\n",
       "    .dataframe tbody tr th:only-of-type {\n",
       "        vertical-align: middle;\n",
       "    }\n",
       "\n",
       "    .dataframe tbody tr th {\n",
       "        vertical-align: top;\n",
       "    }\n",
       "\n",
       "    .dataframe thead th {\n",
       "        text-align: right;\n",
       "    }\n",
       "</style>\n",
       "<table border=\"1\" class=\"dataframe\">\n",
       "  <thead>\n",
       "    <tr style=\"text-align: right;\">\n",
       "      <th></th>\n",
       "      <th>Number</th>\n",
       "      <th>Name</th>\n",
       "      <th>Position</th>\n",
       "      <th>Age</th>\n",
       "      <th>Nation</th>\n",
       "      <th>Team</th>\n",
       "      <th>Value</th>\n",
       "    </tr>\n",
       "  </thead>\n",
       "  <tbody>\n",
       "    <tr>\n",
       "      <th>0</th>\n",
       "      <td>1</td>\n",
       "      <td>Kylian Mbappé</td>\n",
       "      <td>Centre-Forward</td>\n",
       "      <td>22</td>\n",
       "      <td>France</td>\n",
       "      <td>Paris Saint-Germain</td>\n",
       "      <td>€160.00m</td>\n",
       "    </tr>\n",
       "    <tr>\n",
       "      <th>1</th>\n",
       "      <td>2</td>\n",
       "      <td>Erling Haaland</td>\n",
       "      <td>Centre-Forward</td>\n",
       "      <td>21</td>\n",
       "      <td>Norway</td>\n",
       "      <td>Borussia Dortmund</td>\n",
       "      <td>€150.00m</td>\n",
       "    </tr>\n",
       "    <tr>\n",
       "      <th>2</th>\n",
       "      <td>3</td>\n",
       "      <td>Harry Kane</td>\n",
       "      <td>Centre-Forward</td>\n",
       "      <td>28</td>\n",
       "      <td>England</td>\n",
       "      <td>Tottenham Hotspur</td>\n",
       "      <td>€120.00m</td>\n",
       "    </tr>\n",
       "    <tr>\n",
       "      <th>3</th>\n",
       "      <td>4</td>\n",
       "      <td>Jack Grealish</td>\n",
       "      <td>Left Winger</td>\n",
       "      <td>26</td>\n",
       "      <td>England</td>\n",
       "      <td>Manchester City</td>\n",
       "      <td>€100.00m</td>\n",
       "    </tr>\n",
       "    <tr>\n",
       "      <th>4</th>\n",
       "      <td>5</td>\n",
       "      <td>Mohamed Salah</td>\n",
       "      <td>Right Winger</td>\n",
       "      <td>29</td>\n",
       "      <td>Egypt</td>\n",
       "      <td>Liverpool FC</td>\n",
       "      <td>€100.00m</td>\n",
       "    </tr>\n",
       "    <tr>\n",
       "      <th>5</th>\n",
       "      <td>6</td>\n",
       "      <td>Romelu Lukaku</td>\n",
       "      <td>Centre-Forward</td>\n",
       "      <td>28</td>\n",
       "      <td>Belgium</td>\n",
       "      <td>Chelsea FC</td>\n",
       "      <td>€100.00m</td>\n",
       "    </tr>\n",
       "    <tr>\n",
       "      <th>6</th>\n",
       "      <td>7</td>\n",
       "      <td>Kevin De Bruyne</td>\n",
       "      <td>Attacking Midfield</td>\n",
       "      <td>30</td>\n",
       "      <td>Belgium</td>\n",
       "      <td>Manchester City</td>\n",
       "      <td>€100.00m</td>\n",
       "    </tr>\n",
       "    <tr>\n",
       "      <th>7</th>\n",
       "      <td>8</td>\n",
       "      <td>Neymar</td>\n",
       "      <td>Left Winger</td>\n",
       "      <td>29</td>\n",
       "      <td>Brazil</td>\n",
       "      <td>Paris Saint-Germain</td>\n",
       "      <td>€100.00m</td>\n",
       "    </tr>\n",
       "    <tr>\n",
       "      <th>8</th>\n",
       "      <td>9</td>\n",
       "      <td>Jadon Sancho</td>\n",
       "      <td>Left Winger</td>\n",
       "      <td>21</td>\n",
       "      <td>England</td>\n",
       "      <td>Manchester United</td>\n",
       "      <td>€90.00m</td>\n",
       "    </tr>\n",
       "    <tr>\n",
       "      <th>9</th>\n",
       "      <td>10</td>\n",
       "      <td>Frenkie de Jong</td>\n",
       "      <td>Central Midfield</td>\n",
       "      <td>24</td>\n",
       "      <td>Netherlands</td>\n",
       "      <td>FC Barcelona</td>\n",
       "      <td>€90.00m</td>\n",
       "    </tr>\n",
       "    <tr>\n",
       "      <th>10</th>\n",
       "      <td>11</td>\n",
       "      <td>Bruno Fernandes</td>\n",
       "      <td>Attacking Midfield</td>\n",
       "      <td>27</td>\n",
       "      <td>Portugal</td>\n",
       "      <td>Manchester United</td>\n",
       "      <td>€90.00m</td>\n",
       "    </tr>\n",
       "    <tr>\n",
       "      <th>11</th>\n",
       "      <td>12</td>\n",
       "      <td>Joshua Kimmich</td>\n",
       "      <td>Defensive Midfield</td>\n",
       "      <td>26</td>\n",
       "      <td>Germany</td>\n",
       "      <td>Bayern Munich</td>\n",
       "      <td>€90.00m</td>\n",
       "    </tr>\n",
       "    <tr>\n",
       "      <th>12</th>\n",
       "      <td>13</td>\n",
       "      <td>Raheem Sterling</td>\n",
       "      <td>Left Winger</td>\n",
       "      <td>27</td>\n",
       "      <td>England</td>\n",
       "      <td>Manchester City</td>\n",
       "      <td>€90.00m</td>\n",
       "    </tr>\n",
       "    <tr>\n",
       "      <th>13</th>\n",
       "      <td>14</td>\n",
       "      <td>Marcus Rashford</td>\n",
       "      <td>Left Winger</td>\n",
       "      <td>24</td>\n",
       "      <td>England</td>\n",
       "      <td>Manchester United</td>\n",
       "      <td>€85.00m</td>\n",
       "    </tr>\n",
       "    <tr>\n",
       "      <th>14</th>\n",
       "      <td>15</td>\n",
       "      <td>Sadio Mané</td>\n",
       "      <td>Left Winger</td>\n",
       "      <td>29</td>\n",
       "      <td>Senegal</td>\n",
       "      <td>Liverpool FC</td>\n",
       "      <td>€85.00m</td>\n",
       "    </tr>\n",
       "    <tr>\n",
       "      <th>15</th>\n",
       "      <td>16</td>\n",
       "      <td>Heung-min Son</td>\n",
       "      <td>Left Winger</td>\n",
       "      <td>29</td>\n",
       "      <td>Korea, South</td>\n",
       "      <td>Tottenham Hotspur</td>\n",
       "      <td>€85.00m</td>\n",
       "    </tr>\n",
       "    <tr>\n",
       "      <th>16</th>\n",
       "      <td>17</td>\n",
       "      <td>Pedri</td>\n",
       "      <td>Central Midfield</td>\n",
       "      <td>19</td>\n",
       "      <td>Spain</td>\n",
       "      <td>FC Barcelona</td>\n",
       "      <td>€80.00m</td>\n",
       "    </tr>\n",
       "    <tr>\n",
       "      <th>17</th>\n",
       "      <td>18</td>\n",
       "      <td>Phil Foden</td>\n",
       "      <td>Central Midfield</td>\n",
       "      <td>21</td>\n",
       "      <td>England</td>\n",
       "      <td>Manchester City</td>\n",
       "      <td>€80.00m</td>\n",
       "    </tr>\n",
       "    <tr>\n",
       "      <th>18</th>\n",
       "      <td>19</td>\n",
       "      <td>Lautaro Martínez</td>\n",
       "      <td>Centre-Forward</td>\n",
       "      <td>24</td>\n",
       "      <td>Argentina</td>\n",
       "      <td>Inter Milan</td>\n",
       "      <td>€80.00m</td>\n",
       "    </tr>\n",
       "    <tr>\n",
       "      <th>19</th>\n",
       "      <td>20</td>\n",
       "      <td>Marcos Llorente</td>\n",
       "      <td>Central Midfield</td>\n",
       "      <td>26</td>\n",
       "      <td>Spain</td>\n",
       "      <td>Atlético de Madrid</td>\n",
       "      <td>€80.00m</td>\n",
       "    </tr>\n",
       "    <tr>\n",
       "      <th>20</th>\n",
       "      <td>21</td>\n",
       "      <td>Lionel Messi</td>\n",
       "      <td>Right Winger</td>\n",
       "      <td>34</td>\n",
       "      <td>Argentina</td>\n",
       "      <td>Paris Saint-Germain</td>\n",
       "      <td>€80.00m</td>\n",
       "    </tr>\n",
       "    <tr>\n",
       "      <th>21</th>\n",
       "      <td>22</td>\n",
       "      <td>Mason Mount</td>\n",
       "      <td>Attacking Midfield</td>\n",
       "      <td>22</td>\n",
       "      <td>England</td>\n",
       "      <td>Chelsea FC</td>\n",
       "      <td>€75.00m</td>\n",
       "    </tr>\n",
       "    <tr>\n",
       "      <th>22</th>\n",
       "      <td>23</td>\n",
       "      <td>Trent Alexander-Arnold</td>\n",
       "      <td>Right-Back</td>\n",
       "      <td>23</td>\n",
       "      <td>England</td>\n",
       "      <td>Liverpool FC</td>\n",
       "      <td>€75.00m</td>\n",
       "    </tr>\n",
       "    <tr>\n",
       "      <th>23</th>\n",
       "      <td>24</td>\n",
       "      <td>Rúben Dias</td>\n",
       "      <td>Centre-Back</td>\n",
       "      <td>24</td>\n",
       "      <td>Portugal</td>\n",
       "      <td>Manchester City</td>\n",
       "      <td>€75.00m</td>\n",
       "    </tr>\n",
       "    <tr>\n",
       "      <th>24</th>\n",
       "      <td>25</td>\n",
       "      <td>Marquinhos</td>\n",
       "      <td>Centre-Back</td>\n",
       "      <td>27</td>\n",
       "      <td>Brazil</td>\n",
       "      <td>Paris Saint-Germain</td>\n",
       "      <td>€75.00m</td>\n",
       "    </tr>\n",
       "  </tbody>\n",
       "</table>\n",
       "</div>"
      ],
      "text/plain": [
       "   Number                    Name            Position Age        Nation  \\\n",
       "0       1           Kylian Mbappé      Centre-Forward  22        France   \n",
       "1       2          Erling Haaland      Centre-Forward  21        Norway   \n",
       "2       3              Harry Kane      Centre-Forward  28       England   \n",
       "3       4           Jack Grealish         Left Winger  26       England   \n",
       "4       5           Mohamed Salah        Right Winger  29         Egypt   \n",
       "5       6           Romelu Lukaku      Centre-Forward  28       Belgium   \n",
       "6       7         Kevin De Bruyne  Attacking Midfield  30       Belgium   \n",
       "7       8                  Neymar         Left Winger  29        Brazil   \n",
       "8       9            Jadon Sancho         Left Winger  21       England   \n",
       "9      10         Frenkie de Jong    Central Midfield  24   Netherlands   \n",
       "10     11         Bruno Fernandes  Attacking Midfield  27      Portugal   \n",
       "11     12          Joshua Kimmich  Defensive Midfield  26       Germany   \n",
       "12     13         Raheem Sterling         Left Winger  27       England   \n",
       "13     14         Marcus Rashford         Left Winger  24       England   \n",
       "14     15              Sadio Mané         Left Winger  29       Senegal   \n",
       "15     16           Heung-min Son         Left Winger  29  Korea, South   \n",
       "16     17                   Pedri    Central Midfield  19         Spain   \n",
       "17     18              Phil Foden    Central Midfield  21       England   \n",
       "18     19        Lautaro Martínez      Centre-Forward  24     Argentina   \n",
       "19     20         Marcos Llorente    Central Midfield  26         Spain   \n",
       "20     21            Lionel Messi        Right Winger  34     Argentina   \n",
       "21     22             Mason Mount  Attacking Midfield  22       England   \n",
       "22     23  Trent Alexander-Arnold          Right-Back  23       England   \n",
       "23     24              Rúben Dias         Centre-Back  24      Portugal   \n",
       "24     25              Marquinhos         Centre-Back  27        Brazil   \n",
       "\n",
       "                   Team     Value  \n",
       "0   Paris Saint-Germain  €160.00m  \n",
       "1     Borussia Dortmund  €150.00m  \n",
       "2     Tottenham Hotspur  €120.00m  \n",
       "3       Manchester City  €100.00m  \n",
       "4          Liverpool FC  €100.00m  \n",
       "5            Chelsea FC  €100.00m  \n",
       "6       Manchester City  €100.00m  \n",
       "7   Paris Saint-Germain  €100.00m  \n",
       "8     Manchester United   €90.00m  \n",
       "9          FC Barcelona   €90.00m  \n",
       "10    Manchester United   €90.00m  \n",
       "11        Bayern Munich   €90.00m  \n",
       "12      Manchester City   €90.00m  \n",
       "13    Manchester United   €85.00m  \n",
       "14         Liverpool FC   €85.00m  \n",
       "15    Tottenham Hotspur   €85.00m  \n",
       "16         FC Barcelona   €80.00m  \n",
       "17      Manchester City   €80.00m  \n",
       "18          Inter Milan   €80.00m  \n",
       "19   Atlético de Madrid   €80.00m  \n",
       "20  Paris Saint-Germain   €80.00m  \n",
       "21           Chelsea FC   €75.00m  \n",
       "22         Liverpool FC   €75.00m  \n",
       "23      Manchester City   €75.00m  \n",
       "24  Paris Saint-Germain   €75.00m  "
      ]
     },
     "execution_count": 72,
     "metadata": {},
     "output_type": "execute_result"
    }
   ],
   "source": [
    "df = pd.DataFrame(\n",
    "    {\n",
    "    \"Number\":number,\n",
    "    \"Name\":name,\n",
    "     \"Position\":position,\n",
    "     \"Age\":age,\n",
    "     \"Nation\":nation,\n",
    "     \"Team\":team,\n",
    "     \"Value\":value\n",
    "    }\n",
    ")\n",
    "\n",
    "df"
   ]
  },
  {
   "cell_type": "code",
   "execution_count": 73,
   "id": "45c8ee04",
   "metadata": {},
   "outputs": [],
   "source": [
    "df.to_csv('Most_Valueable_Players.csv', index=False)"
   ]
  },
  {
   "cell_type": "code",
   "execution_count": null,
   "id": "873c7125",
   "metadata": {},
   "outputs": [],
   "source": []
  },
  {
   "cell_type": "code",
   "execution_count": null,
   "id": "62ecfeab",
   "metadata": {},
   "outputs": [],
   "source": []
  },
  {
   "cell_type": "code",
   "execution_count": null,
   "id": "1b84f006",
   "metadata": {},
   "outputs": [],
   "source": []
  },
  {
   "cell_type": "code",
   "execution_count": null,
   "id": "f254e017",
   "metadata": {},
   "outputs": [],
   "source": []
  },
  {
   "cell_type": "code",
   "execution_count": 86,
   "id": "bba1974b",
   "metadata": {},
   "outputs": [],
   "source": [
    "html_doc = \"\"\"<html><head><title>The Dormouse's story</title></head>\n",
    "<body>\n",
    "<p class=\"title\"><b>The Dormouse's story</b></p>\n",
    "\n",
    "<p class=\"story\">Once upon a time there were three little sisters; and their names were\n",
    "<a href=\"http://example.com/elsie\" class=\"sister\" id=\"link1\">Elsie</a>,\n",
    "<a href=\"http://example.com/lacie\" class=\"sister\" id=\"link2\">Lacie</a> and\n",
    "<a href=\"http://example.com/tillie\" class=\"sister\" id=\"link3\">Tillie</a>;\n",
    "and they lived at the bottom of a well.</p>\n",
    "\n",
    "<p class=\"story\">...</p>\n",
    "\"\"\"\n",
    "\n",
    "soup = bs(html_doc, 'html.parser')"
   ]
  },
  {
   "cell_type": "code",
   "execution_count": 88,
   "id": "af5c9cd9",
   "metadata": {},
   "outputs": [
    {
     "data": {
      "text/plain": [
       "<p class=\"title\"><b>The Dormouse's story</b></p>"
      ]
     },
     "execution_count": 88,
     "metadata": {},
     "output_type": "execute_result"
    }
   ],
   "source": [
    "soup.p"
   ]
  },
  {
   "cell_type": "code",
   "execution_count": 89,
   "id": "542c1473",
   "metadata": {},
   "outputs": [
    {
     "data": {
      "text/plain": [
       "<p class=\"title\"><b>The Dormouse's story</b></p>"
      ]
     },
     "execution_count": 89,
     "metadata": {},
     "output_type": "execute_result"
    }
   ],
   "source": [
    "soup.find('p')"
   ]
  },
  {
   "cell_type": "code",
   "execution_count": 90,
   "id": "463df3e4",
   "metadata": {},
   "outputs": [
    {
     "data": {
      "text/plain": [
       "<a class=\"sister\" href=\"http://example.com/elsie\" id=\"link1\">Elsie</a>"
      ]
     },
     "execution_count": 90,
     "metadata": {},
     "output_type": "execute_result"
    }
   ],
   "source": [
    "soup.find('a')"
   ]
  },
  {
   "cell_type": "code",
   "execution_count": 91,
   "id": "8c4be797",
   "metadata": {},
   "outputs": [
    {
     "data": {
      "text/plain": [
       "'http://example.com/elsie'"
      ]
     },
     "execution_count": 91,
     "metadata": {},
     "output_type": "execute_result"
    }
   ],
   "source": [
    "soup.find('a')['href']\n",
    "# soup.a['href']"
   ]
  },
  {
   "cell_type": "code",
   "execution_count": 93,
   "id": "f2469a07",
   "metadata": {},
   "outputs": [
    {
     "data": {
      "text/plain": [
       "'Elsie'"
      ]
     },
     "execution_count": 93,
     "metadata": {},
     "output_type": "execute_result"
    }
   ],
   "source": [
    "soup.find('a').text\n",
    "# soup.find('a').get_text()"
   ]
  },
  {
   "cell_type": "code",
   "execution_count": 94,
   "id": "a3399094",
   "metadata": {},
   "outputs": [
    {
     "data": {
      "text/plain": [
       "[<a class=\"sister\" href=\"http://example.com/elsie\" id=\"link1\">Elsie</a>,\n",
       " <a class=\"sister\" href=\"http://example.com/lacie\" id=\"link2\">Lacie</a>,\n",
       " <a class=\"sister\" href=\"http://example.com/tillie\" id=\"link3\">Tillie</a>]"
      ]
     },
     "execution_count": 94,
     "metadata": {},
     "output_type": "execute_result"
    }
   ],
   "source": [
    "soup.find_all('a')"
   ]
  },
  {
   "cell_type": "code",
   "execution_count": 95,
   "id": "c825a502",
   "metadata": {},
   "outputs": [
    {
     "data": {
      "text/plain": [
       "<a class=\"sister\" href=\"http://example.com/lacie\" id=\"link2\">Lacie</a>"
      ]
     },
     "execution_count": 95,
     "metadata": {},
     "output_type": "execute_result"
    }
   ],
   "source": [
    "#두번째 a태그의 링크\n",
    "soup.find_all('a')[1]"
   ]
  },
  {
   "cell_type": "code",
   "execution_count": 97,
   "id": "987d9aee",
   "metadata": {},
   "outputs": [
    {
     "name": "stdout",
     "output_type": "stream",
     "text": [
      "http://example.com/elsie\n",
      "http://example.com/lacie\n",
      "http://example.com/tillie\n"
     ]
    }
   ],
   "source": [
    "a_list = soup.find_all('a')\n",
    "for i in a_list:\n",
    "    print(i['href'])"
   ]
  },
  {
   "cell_type": "code",
   "execution_count": 98,
   "id": "960a0150",
   "metadata": {},
   "outputs": [
    {
     "name": "stdout",
     "output_type": "stream",
     "text": [
      "Elsie\n",
      "Lacie\n",
      "Tillie\n"
     ]
    }
   ],
   "source": [
    "a_list = soup.find_all('a')\n",
    "for i in a_list:\n",
    "    print(i.text)"
   ]
  },
  {
   "cell_type": "code",
   "execution_count": 100,
   "id": "36a955cc",
   "metadata": {},
   "outputs": [
    {
     "data": {
      "text/plain": [
       "[<a class=\"sister\" href=\"http://example.com/lacie\" id=\"link2\">Lacie</a>]"
      ]
     },
     "execution_count": 100,
     "metadata": {},
     "output_type": "execute_result"
    }
   ],
   "source": [
    "soup.find_all(\"a\", id=\"link2\")"
   ]
  },
  {
   "cell_type": "code",
   "execution_count": null,
   "id": "47d9d219",
   "metadata": {},
   "outputs": [],
   "source": []
  },
  {
   "cell_type": "code",
   "execution_count": null,
   "id": "dea51d33",
   "metadata": {},
   "outputs": [],
   "source": []
  },
  {
   "cell_type": "code",
   "execution_count": null,
   "id": "ea64e127",
   "metadata": {},
   "outputs": [],
   "source": []
  },
  {
   "cell_type": "code",
   "execution_count": null,
   "id": "bcdd5fab",
   "metadata": {},
   "outputs": [],
   "source": []
  },
  {
   "cell_type": "code",
   "execution_count": null,
   "id": "718bd2ab",
   "metadata": {},
   "outputs": [],
   "source": []
  }
 ],
 "metadata": {
  "kernelspec": {
   "display_name": "Python 3 (ipykernel)",
   "language": "python",
   "name": "python3"
  },
  "language_info": {
   "codemirror_mode": {
    "name": "ipython",
    "version": 3
   },
   "file_extension": ".py",
   "mimetype": "text/x-python",
   "name": "python",
   "nbconvert_exporter": "python",
   "pygments_lexer": "ipython3",
   "version": "3.10.0"
  }
 },
 "nbformat": 4,
 "nbformat_minor": 5
}
