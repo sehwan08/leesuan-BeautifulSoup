{
 "cells": [
  {
   "cell_type": "code",
   "execution_count": 111,
   "id": "259ed471",
   "metadata": {},
   "outputs": [],
   "source": [
    "from bs4 import BeautifulSoup as bs\n",
    "import requests\n",
    "import pandas as pd\n",
    "from urllib.parse import quote\n",
    "\n",
    "headers = {'User-Agent':'Mozilla/5.0 (Windows NT 10.0; Win64; x64) AppleWebKit/537.36 (KHTML, like Gecko) Chrome/96.0.4664.93 Safari/537.36'}\n"
   ]
  },
  {
   "cell_type": "code",
   "execution_count": 118,
   "id": "b4921f53",
   "metadata": {},
   "outputs": [],
   "source": [
    "def get_movie_reviews(mcode, page_num=10):\n",
    "    \n",
    "    movie_review_df = pd.DataFrame(columns = (\"Movie Tile\", \"Comment\", \"Writer\", \"Date\", \"Star\", \"Thums-Up\", \"Veiw\"))\n",
    "    idx = 0\n",
    "    url = \"https://movie.naver.com/movie/board/review/list.naver?st=code&sword=\"+ str(mcode) + \"&target=after\"\n",
    "#     count = 0 횟수 세기 용\n",
    "\n",
    "\n",
    "    for i in range(0, page_num):\n",
    "        \n",
    "        movie_page = requests.get(url, headers=headers)\n",
    "        movie_page_soup = bs(movie_page.content, 'html.parser')\n",
    "        \n",
    "        movie_list = movie_page_soup.find_all('div', {\"class\":\"choice_movie_info\"})\n",
    "        title_lists = movie_page_soup.find_all(\"td\", {\"class\":\"title\"})\n",
    "        author_lists = movie_page_soup.find_all(\"td\", {\"class\":\"author num\"})\n",
    "        star_lists = movie_page_soup.select(\"div.point_type_1 > div.mask > img\") \n",
    "        recommend_list = movie_page_soup.find_all('td', {\"class\":\"num c_ff4200\"})\n",
    "        view_list = movie_page_soup.find_all('td', {\"class\":\"num\"})[2]\n",
    "        \n",
    "        \n",
    "        for movie in movie_list:\n",
    "            mm = movie.find('a').get_text() #영화 제목\n",
    "        \n",
    "        for title in title_lists:\n",
    "            tt = title.find('a').get_text() # 타이틀\n",
    "        \n",
    "        for author in author_lists:\n",
    "            aa = author.find('a').get_text() # 작성자\n",
    "            bb = author.get_text().strip().split('\\n')[-1].strip() #날짜\n",
    "            \n",
    "        star = star_lists[i].attrs['alt'] #별점\n",
    "        \n",
    "        for recommend in recommend_list: #추천\n",
    "            rr = recommend.get_text()\n",
    "            \n",
    "        for view in view_list:\n",
    "            vv = view.get_text()\n",
    "            \n",
    "        \n",
    "        movie_review_df.loc[idx] = [mm, tt, aa, bb, star, rr, vv]\n",
    "        idx += 1\n",
    "        \n",
    "        print(\"#\",end=\" \")\n",
    "        \n",
    "        try: #리뷰가 끝나는 지점 처리\n",
    "            url = \"https://movie.naver.com\" + movie_page_soup.find('a', {'class':'pg_next'}).get('href')\n",
    "            print(url)\n",
    "        except:\n",
    "            break\n",
    "            \n",
    "    return movie_review_df"
   ]
  },
  {
   "cell_type": "code",
   "execution_count": 121,
   "id": "72cbe8ba",
   "metadata": {
    "scrolled": true
   },
   "outputs": [
    {
     "name": "stdout",
     "output_type": "stream",
     "text": [
      "# https://movie.naver.com/movie/board/review/list.naver?st=code&sword=208077&target=after&page=2\n",
      "# https://movie.naver.com/movie/board/review/list.naver?st=code&sword=208077&target=after&page=3\n",
      "# https://movie.naver.com/movie/board/review/list.naver?st=code&sword=208077&target=after&page=4\n",
      "# "
     ]
    },
    {
     "data": {
      "text/html": [
       "<div>\n",
       "<style scoped>\n",
       "    .dataframe tbody tr th:only-of-type {\n",
       "        vertical-align: middle;\n",
       "    }\n",
       "\n",
       "    .dataframe tbody tr th {\n",
       "        vertical-align: top;\n",
       "    }\n",
       "\n",
       "    .dataframe thead th {\n",
       "        text-align: right;\n",
       "    }\n",
       "</style>\n",
       "<table border=\"1\" class=\"dataframe\">\n",
       "  <thead>\n",
       "    <tr style=\"text-align: right;\">\n",
       "      <th></th>\n",
       "      <th>Movie Tile</th>\n",
       "      <th>Comment</th>\n",
       "      <th>Writer</th>\n",
       "      <th>Date</th>\n",
       "      <th>Star</th>\n",
       "      <th>Thums-Up</th>\n",
       "      <th>Veiw</th>\n",
       "    </tr>\n",
       "  </thead>\n",
       "  <tbody>\n",
       "    <tr>\n",
       "      <th>0</th>\n",
       "      <td>스파이더맨: 노 웨이 홈</td>\n",
       "      <td>스파이더맨: 노 웨이 홈</td>\n",
       "      <td>rega****</td>\n",
       "      <td>21.12.15</td>\n",
       "      <td>9점</td>\n",
       "      <td>0</td>\n",
       "      <td>2</td>\n",
       "    </tr>\n",
       "    <tr>\n",
       "      <th>1</th>\n",
       "      <td>스파이더맨: 노 웨이 홈</td>\n",
       "      <td>[현금]&lt;스파이더 맨:노웨이 홈&gt;{스포주의} 기대했던 모든 것, 기...</td>\n",
       "      <td>acts****</td>\n",
       "      <td>21.12.15</td>\n",
       "      <td>0점</td>\n",
       "      <td>0</td>\n",
       "      <td>0</td>\n",
       "    </tr>\n",
       "    <tr>\n",
       "      <th>2</th>\n",
       "      <td>스파이더맨: 노 웨이 홈</td>\n",
       "      <td>영화 [스파이더맨: 노 웨이 홈] 국내 예고편(한글) : 세계 최초 개봉...</td>\n",
       "      <td>shin****</td>\n",
       "      <td>21.11.17</td>\n",
       "      <td>0점</td>\n",
       "      <td>0</td>\n",
       "      <td>22</td>\n",
       "    </tr>\n",
       "    <tr>\n",
       "      <th>3</th>\n",
       "      <td>스파이더맨: 노 웨이 홈</td>\n",
       "      <td>식어버린 MCU에 부어진 기름 / 영화 [스파이더맨 : 노 웨이 홈] 티저...</td>\n",
       "      <td>sass****</td>\n",
       "      <td>21.08.24</td>\n",
       "      <td>0점</td>\n",
       "      <td>0</td>\n",
       "      <td>7</td>\n",
       "    </tr>\n",
       "  </tbody>\n",
       "</table>\n",
       "</div>"
      ],
      "text/plain": [
       "      Movie Tile                                       Comment    Writer  \\\n",
       "0  스파이더맨: 노 웨이 홈                                 스파이더맨: 노 웨이 홈  rega****   \n",
       "1  스파이더맨: 노 웨이 홈      [현금]<스파이더 맨:노웨이 홈>{스포주의} 기대했던 모든 것, 기...  acts****   \n",
       "2  스파이더맨: 노 웨이 홈   영화 [스파이더맨: 노 웨이 홈] 국내 예고편(한글) : 세계 최초 개봉...  shin****   \n",
       "3  스파이더맨: 노 웨이 홈  식어버린 MCU에 부어진 기름 / 영화 [스파이더맨 : 노 웨이 홈] 티저...  sass****   \n",
       "\n",
       "       Date Star Thums-Up Veiw  \n",
       "0  21.12.15   9점        0    2  \n",
       "1  21.12.15   0점        0    0  \n",
       "2  21.11.17   0점        0   22  \n",
       "3  21.08.24   0점        0    7  "
      ]
     },
     "execution_count": 121,
     "metadata": {},
     "output_type": "execute_result"
    }
   ],
   "source": [
    "movie_review_df = get_movie_reviews(208077, 10)\n",
    "movie_review_df"
   ]
  },
  {
   "cell_type": "code",
   "execution_count": 118,
   "id": "e5c311cd",
   "metadata": {},
   "outputs": [
    {
     "ename": "SyntaxError",
     "evalue": "invalid syntax. Perhaps you forgot a comma? (Temp/ipykernel_13960/1030441644.py, line 1)",
     "output_type": "error",
     "traceback": [
      "\u001b[1;36m  File \u001b[1;32m\"C:\\Users\\Cha\\AppData\\Local\\Temp/ipykernel_13960/1030441644.py\"\u001b[1;36m, line \u001b[1;32m1\u001b[0m\n\u001b[1;33m    21.12.15\u001b[0m\n\u001b[1;37m    ^\u001b[0m\n\u001b[1;31mSyntaxError\u001b[0m\u001b[1;31m:\u001b[0m invalid syntax. Perhaps you forgot a comma?\n"
     ]
    }
   ],
   "source": [
    "21.12.15\n",
    "\n",
    "\n",
    "\n",
    "\n",
    "\n",
    "\n",
    "\n",
    "\n",
    "\n",
    "\n",
    "\n",
    "\n",
    "\n"
   ]
  },
  {
   "cell_type": "code",
   "execution_count": null,
   "id": "763d94d9",
   "metadata": {},
   "outputs": [],
   "source": []
  },
  {
   "cell_type": "code",
   "execution_count": null,
   "id": "0d122326",
   "metadata": {},
   "outputs": [],
   "source": []
  },
  {
   "cell_type": "code",
   "execution_count": null,
   "id": "69a21678",
   "metadata": {},
   "outputs": [],
   "source": []
  },
  {
   "cell_type": "code",
   "execution_count": null,
   "id": "a87029b4",
   "metadata": {},
   "outputs": [],
   "source": []
  },
  {
   "cell_type": "code",
   "execution_count": null,
   "id": "37e64242",
   "metadata": {},
   "outputs": [],
   "source": []
  },
  {
   "cell_type": "code",
   "execution_count": null,
   "id": "e6776828",
   "metadata": {},
   "outputs": [],
   "source": []
  },
  {
   "cell_type": "code",
   "execution_count": null,
   "id": "2055871a",
   "metadata": {},
   "outputs": [],
   "source": []
  },
  {
   "cell_type": "code",
   "execution_count": null,
   "id": "60a463b7",
   "metadata": {},
   "outputs": [],
   "source": []
  }
 ],
 "metadata": {
  "kernelspec": {
   "display_name": "Python 3 (ipykernel)",
   "language": "python",
   "name": "python3"
  },
  "language_info": {
   "codemirror_mode": {
    "name": "ipython",
    "version": 3
   },
   "file_extension": ".py",
   "mimetype": "text/x-python",
   "name": "python",
   "nbconvert_exporter": "python",
   "pygments_lexer": "ipython3",
   "version": "3.10.0"
  }
 },
 "nbformat": 4,
 "nbformat_minor": 5
}
