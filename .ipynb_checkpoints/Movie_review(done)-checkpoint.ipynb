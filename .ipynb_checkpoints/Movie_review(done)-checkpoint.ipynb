{
 "cells": [
  {
   "cell_type": "code",
   "execution_count": 82,
   "id": "c64be5ad",
   "metadata": {},
   "outputs": [],
   "source": [
    "from bs4 import BeautifulSoup as bs\n",
    "import requests\n",
    "import pandas as pd\n",
    "from urllib.parse import quote\n",
    "\n",
    "headers = {'User-Agent':'Mozilla/5.0 (Windows NT 10.0; Win64; x64) AppleWebKit/537.36 (KHTML, like Gecko) Chrome/96.0.4664.93 Safari/537.36'}\n"
   ]
  },
  {
   "cell_type": "code",
   "execution_count": 145,
   "id": "d130cc1d",
   "metadata": {},
   "outputs": [],
   "source": [
    "def get_movie_reviews(mcode, page_num=10):\n",
    "    \n",
    "    movie_review_df = pd.DataFrame(columns = (\"Movie Title\", \"Comment\", \"Writer\", \"Date\", \"Star\", \"Thums-Up\", \"Veiw\"))\n",
    "    idx = 0\n",
    "    url = \"https://movie.naver.com/movie/board/review/list.naver?st=code&sword=\"+ str(mcode) + \"&target=after\"\n",
    "\n",
    "    for i in range(0, page_num):\n",
    "\n",
    "        movie_page = requests.get(url, headers=headers)\n",
    "        movie_page_soup = bs(movie_page.content, 'html.parser')\n",
    "        \n",
    "        \n",
    "        \n",
    "        title_list = movie_page_soup.find('span',{\"class\":\"choice_txt\"}).get_text() #제목\n",
    "    \n",
    "        info_list = movie_page_soup.find_all('table', {\"class\":\"list_table_1 list_h48\"})\n",
    "        \n",
    "        for info in info_list: #리뷰 리스트\n",
    "            comment = info.find('td', {\"class\":\"title\"}).get_text() #코멘트\n",
    "            author_list = info.find_all('a')[4].get_text()\n",
    "            \n",
    "           \n",
    "            \n",
    "            \n",
    "            \n",
    "        \n",
    "        \n",
    "        \n",
    "        \n",
    "        \n",
    "        \n",
    "        \n",
    "        \n",
    "#         title_list = movie_page_soup.find_all('div', {\"class\":\"choice_movie_info\"}) #타이틀\n",
    "#         for movie in title_list:\n",
    "#             mm = movie.find('a').get_text()\n",
    "            \n",
    "#         info_list = movie_page_soup.select(f\"#old_content > table > tbody > tr:nth-child({i})\")\n",
    "\n",
    "\n",
    "#         author_list = movie_page_soup.find_all(\"td\", {\"class\":\"author num\"}) #작성자/날짜\n",
    "#         for author in author_list:\n",
    "#             aa = author.find('a').get_text()\n",
    "#             bb = author.get_text().strip().split('\\n')[-1].strip()\n",
    "# #             print(bb)\n",
    "        \n",
    "#         star_lists = movie_page_soup.select(\"div.point_type_1 > div.mask > img\")\n",
    "#         star = star_lists[1].attrs['alt']\n",
    "        \n",
    "#         recommend_list = movie_page_soup.find_all('td', {\"class\":\"num c_ff4200\"})\n",
    "#         for recommend in recommend_list: #추천\n",
    "#             rr = recommend.get_text()\n",
    "            \n",
    "#         for info in info_list: # 정보\n",
    "#             comment = info.find_all(\"td\", {\"class\":\"title\"})[0].get_text()#내용\n",
    "#             view = info.find_all('td', {\"class\":\"num\"})[2].get_text()    \n",
    "#             movie_review_df.loc[idx] = [mm, comment, aa, bb, star, rr, view]\n",
    "#             idx += 1\n",
    "\n",
    "\n",
    "        \n",
    "#         print(\"#\",end=\" \")\n",
    "        \n",
    "#         try: #리뷰가 끝나는 지점 처리\n",
    "#             url = \"https://movie.naver.com\" + movie_page_soup.find('a', {'class':'pg_next'}).get('href')\n",
    "#             print(url)\n",
    "#         except:\n",
    "#             break\n",
    "            \n",
    "#     return movie_review_df"
   ]
  },
  {
   "cell_type": "code",
   "execution_count": 146,
   "id": "9ec68dfc",
   "metadata": {},
   "outputs": [
    {
     "name": "stdout",
     "output_type": "stream",
     "text": [
      "mo_r****\n",
      "mo_r****\n",
      "mo_r****\n"
     ]
    }
   ],
   "source": [
    "# movie_review_df = get_movie_reviews(208077, 3)\n",
    "# movie_review_df\n",
    "get_movie_reviews(208077, 3)\n"
   ]
  },
  {
   "cell_type": "code",
   "execution_count": null,
   "id": "f6b2215a",
   "metadata": {},
   "outputs": [],
   "source": []
  },
  {
   "cell_type": "code",
   "execution_count": null,
   "id": "520c5264",
   "metadata": {},
   "outputs": [],
   "source": []
  },
  {
   "cell_type": "code",
   "execution_count": null,
   "id": "c27984ef",
   "metadata": {},
   "outputs": [],
   "source": []
  },
  {
   "cell_type": "code",
   "execution_count": null,
   "id": "35890a7a",
   "metadata": {},
   "outputs": [],
   "source": []
  },
  {
   "cell_type": "code",
   "execution_count": null,
   "id": "9df39a45",
   "metadata": {},
   "outputs": [],
   "source": []
  },
  {
   "cell_type": "code",
   "execution_count": null,
   "id": "14344e09",
   "metadata": {},
   "outputs": [],
   "source": []
  },
  {
   "cell_type": "code",
   "execution_count": null,
   "id": "a4937168",
   "metadata": {},
   "outputs": [],
   "source": []
  }
 ],
 "metadata": {
  "kernelspec": {
   "display_name": "Python 3 (ipykernel)",
   "language": "python",
   "name": "python3"
  },
  "language_info": {
   "codemirror_mode": {
    "name": "ipython",
    "version": 3
   },
   "file_extension": ".py",
   "mimetype": "text/x-python",
   "name": "python",
   "nbconvert_exporter": "python",
   "pygments_lexer": "ipython3",
   "version": "3.10.0"
  }
 },
 "nbformat": 4,
 "nbformat_minor": 5
}
