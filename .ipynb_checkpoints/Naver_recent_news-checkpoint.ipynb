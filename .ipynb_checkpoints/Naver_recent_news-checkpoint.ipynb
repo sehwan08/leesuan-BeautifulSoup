{
 "cells": [
  {
   "cell_type": "code",
   "execution_count": 1,
   "id": "133108a3",
   "metadata": {},
   "outputs": [],
   "source": [
    "import requests\n",
    "from bs4 import BeautifulSoup"
   ]
  },
  {
   "cell_type": "code",
   "execution_count": 53,
   "id": "517e5a75",
   "metadata": {},
   "outputs": [],
   "source": [
    "def create_soup(url):\n",
    "    res = requests.get(url)\n",
    "    res.raise_for_status()\n",
    "    soup = BeautifulSoup(res.text, 'lxml')\n",
    "    return soup\n",
    "\n",
    "def print_news(index, title, link):\n",
    "    print(\"{}. {}\".format(index+1, title))\n",
    "    print(\"링크 : {}\".format(link))\n",
    "\n",
    "def scrape_headline_news():\n",
    "    print(\"[최신 뉴스]\")\n",
    "    url = \"https://news.naver.com/\"\n",
    "    soup = create_soup(url)\n",
    "    \n",
    "    news = soup.find('div', class_='cjs_channel_card')\n",
    "    news_list = news.find_all('div', class_='cjs_journal_wrap _item_contents', limit=3)\n",
    "    \n",
    "    for index, news in enumerate(news_list):\n",
    "        title = news.find('div', class_='cjs_t').get_text().strip()\n",
    "        link = news.find('a', class_='cjs_news_a').get('href')\n",
    "        \n",
    "        print_news(index, title, link)\n",
    "\n",
    "    print()\n",
    "        \n",
    "    "
   ]
  },
  {
   "cell_type": "code",
   "execution_count": 54,
   "id": "537f81d5",
   "metadata": {},
   "outputs": [
    {
     "name": "stdout",
     "output_type": "stream",
     "text": [
      "[최신 뉴스]\n",
      "1. [청년이 외친다, ESG 나와라](4)대안 GDP인 ‘행복지표’ 도입하라\n",
      "링크 : https://n.news.naver.com/article/033/0000043544\n",
      "2. ‘멸공’ 정용진 신세계 부회장 “검찰에 통신조회 당했다”\n",
      "링크 : https://n.news.naver.com/article/032/0003121236\n",
      "3. '이재명 공식 측근' 정진상·김용, 대장동 윗선 수사 종착역 되나\n",
      "링크 : https://n.news.naver.com/article/586/0000033331\n",
      "\n"
     ]
    }
   ],
   "source": [
    "scrape_headline_news()"
   ]
  },
  {
   "cell_type": "code",
   "execution_count": null,
   "id": "75c8d3e9",
   "metadata": {},
   "outputs": [],
   "source": []
  },
  {
   "cell_type": "code",
   "execution_count": null,
   "id": "07438755",
   "metadata": {},
   "outputs": [],
   "source": []
  },
  {
   "cell_type": "code",
   "execution_count": null,
   "id": "e4288de9",
   "metadata": {},
   "outputs": [],
   "source": []
  },
  {
   "cell_type": "code",
   "execution_count": null,
   "id": "2d1affaa",
   "metadata": {},
   "outputs": [],
   "source": []
  },
  {
   "cell_type": "code",
   "execution_count": null,
   "id": "922d54b2",
   "metadata": {},
   "outputs": [],
   "source": []
  }
 ],
 "metadata": {
  "kernelspec": {
   "display_name": "Python 3 (ipykernel)",
   "language": "python",
   "name": "python3"
  },
  "language_info": {
   "codemirror_mode": {
    "name": "ipython",
    "version": 3
   },
   "file_extension": ".py",
   "mimetype": "text/x-python",
   "name": "python",
   "nbconvert_exporter": "python",
   "pygments_lexer": "ipython3",
   "version": "3.10.0"
  }
 },
 "nbformat": 4,
 "nbformat_minor": 5
}
